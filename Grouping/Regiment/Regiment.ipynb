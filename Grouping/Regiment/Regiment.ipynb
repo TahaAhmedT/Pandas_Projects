{
 "cells": [
  {
   "cell_type": "code",
   "execution_count": 1,
   "metadata": {},
   "outputs": [],
   "source": [
    "# import the necessary libraries\n",
    "import pandas as pd"
   ]
  },
  {
   "cell_type": "code",
   "execution_count": 2,
   "metadata": {},
   "outputs": [],
   "source": [
    "# create dataframe\n",
    "raw_data = {'regiment': ['Nighthawks', 'Nighthawks', 'Nighthawks', 'Nighthawks', 'Dragoons', 'Dragoons', 'Dragoons', 'Dragoons', 'Scouts', 'Scouts', 'Scouts', 'Scouts'],\n",
    "            'company': ['1st', '1st', '2nd', '2nd', '1st', '1st', '2nd', '2nd','1st', '1st', '2nd', '2nd'],\n",
    "            'name': ['Miller', 'Jacobson', 'Ali', 'Milner', 'Cooze', 'Jacon', 'Ryaner', 'Sone', 'Sloan', 'Piger', 'Riani', 'Ali'],\n",
    "            'preTestScore': [4, 24, 31, 2, 3, 4, 24, 31, 2, 3, 2, 3],\n",
    "            'postTestScore': [25, 94, 57, 62, 70, 25, 94, 57, 62, 70, 62, 70]}\n",
    "\n",
    "regiment = pd.DataFrame(raw_data)"
   ]
  },
  {
   "cell_type": "code",
   "execution_count": 3,
   "metadata": {},
   "outputs": [
    {
     "data": {
      "text/plain": [
       "15.25"
      ]
     },
     "execution_count": 3,
     "metadata": {},
     "output_type": "execute_result"
    }
   ],
   "source": [
    "# what is the mean preTestScore from the regiment Nighthawks?\n",
    "mean_preTestScore_for_Nighthawks = regiment[regiment['regiment'] == 'Nighthawks']['preTestScore'].mean()\n",
    "mean_preTestScore_for_Nighthawks"
   ]
  },
  {
   "cell_type": "code",
   "execution_count": 4,
   "metadata": {},
   "outputs": [
    {
     "data": {
      "text/html": [
       "<div>\n",
       "<style scoped>\n",
       "    .dataframe tbody tr th:only-of-type {\n",
       "        vertical-align: middle;\n",
       "    }\n",
       "\n",
       "    .dataframe tbody tr th {\n",
       "        vertical-align: top;\n",
       "    }\n",
       "\n",
       "    .dataframe thead tr th {\n",
       "        text-align: left;\n",
       "    }\n",
       "\n",
       "    .dataframe thead tr:last-of-type th {\n",
       "        text-align: right;\n",
       "    }\n",
       "</style>\n",
       "<table border=\"1\" class=\"dataframe\">\n",
       "  <thead>\n",
       "    <tr>\n",
       "      <th></th>\n",
       "      <th colspan=\"8\" halign=\"left\">preTestScore</th>\n",
       "      <th colspan=\"8\" halign=\"left\">postTestScore</th>\n",
       "    </tr>\n",
       "    <tr>\n",
       "      <th></th>\n",
       "      <th>count</th>\n",
       "      <th>mean</th>\n",
       "      <th>std</th>\n",
       "      <th>min</th>\n",
       "      <th>25%</th>\n",
       "      <th>50%</th>\n",
       "      <th>75%</th>\n",
       "      <th>max</th>\n",
       "      <th>count</th>\n",
       "      <th>mean</th>\n",
       "      <th>std</th>\n",
       "      <th>min</th>\n",
       "      <th>25%</th>\n",
       "      <th>50%</th>\n",
       "      <th>75%</th>\n",
       "      <th>max</th>\n",
       "    </tr>\n",
       "    <tr>\n",
       "      <th>company</th>\n",
       "      <th></th>\n",
       "      <th></th>\n",
       "      <th></th>\n",
       "      <th></th>\n",
       "      <th></th>\n",
       "      <th></th>\n",
       "      <th></th>\n",
       "      <th></th>\n",
       "      <th></th>\n",
       "      <th></th>\n",
       "      <th></th>\n",
       "      <th></th>\n",
       "      <th></th>\n",
       "      <th></th>\n",
       "      <th></th>\n",
       "      <th></th>\n",
       "    </tr>\n",
       "  </thead>\n",
       "  <tbody>\n",
       "    <tr>\n",
       "      <th>1st</th>\n",
       "      <td>6.0</td>\n",
       "      <td>6.666667</td>\n",
       "      <td>8.524475</td>\n",
       "      <td>2.0</td>\n",
       "      <td>3.00</td>\n",
       "      <td>3.5</td>\n",
       "      <td>4.00</td>\n",
       "      <td>24.0</td>\n",
       "      <td>6.0</td>\n",
       "      <td>57.666667</td>\n",
       "      <td>27.485754</td>\n",
       "      <td>25.0</td>\n",
       "      <td>34.25</td>\n",
       "      <td>66.0</td>\n",
       "      <td>70.0</td>\n",
       "      <td>94.0</td>\n",
       "    </tr>\n",
       "    <tr>\n",
       "      <th>2nd</th>\n",
       "      <td>6.0</td>\n",
       "      <td>15.500000</td>\n",
       "      <td>14.652645</td>\n",
       "      <td>2.0</td>\n",
       "      <td>2.25</td>\n",
       "      <td>13.5</td>\n",
       "      <td>29.25</td>\n",
       "      <td>31.0</td>\n",
       "      <td>6.0</td>\n",
       "      <td>67.000000</td>\n",
       "      <td>14.057027</td>\n",
       "      <td>57.0</td>\n",
       "      <td>58.25</td>\n",
       "      <td>62.0</td>\n",
       "      <td>68.0</td>\n",
       "      <td>94.0</td>\n",
       "    </tr>\n",
       "  </tbody>\n",
       "</table>\n",
       "</div>"
      ],
      "text/plain": [
       "        preTestScore                                                      \\\n",
       "               count       mean        std  min   25%   50%    75%   max   \n",
       "company                                                                    \n",
       "1st              6.0   6.666667   8.524475  2.0  3.00   3.5   4.00  24.0   \n",
       "2nd              6.0  15.500000  14.652645  2.0  2.25  13.5  29.25  31.0   \n",
       "\n",
       "        postTestScore                                                       \n",
       "                count       mean        std   min    25%   50%   75%   max  \n",
       "company                                                                     \n",
       "1st               6.0  57.666667  27.485754  25.0  34.25  66.0  70.0  94.0  \n",
       "2nd               6.0  67.000000  14.057027  57.0  58.25  62.0  68.0  94.0  "
      ]
     },
     "execution_count": 4,
     "metadata": {},
     "output_type": "execute_result"
    }
   ],
   "source": [
    "# present general statistics by company\n",
    "companies = regiment.groupby('company')\n",
    "companies.describe()"
   ]
  },
  {
   "cell_type": "code",
   "execution_count": 5,
   "metadata": {},
   "outputs": [
    {
     "data": {
      "text/plain": [
       "company\n",
       "1st     6.666667\n",
       "2nd    15.500000\n",
       "Name: preTestScore, dtype: float64"
      ]
     },
     "execution_count": 5,
     "metadata": {},
     "output_type": "execute_result"
    }
   ],
   "source": [
    "# what is the mean of each company's preTestScore?\n",
    "companies['preTestScore'].mean()"
   ]
  },
  {
   "cell_type": "code",
   "execution_count": 6,
   "metadata": {},
   "outputs": [
    {
     "data": {
      "text/plain": [
       "regiment    company\n",
       "Dragoons    1st         3.5\n",
       "            2nd        27.5\n",
       "Nighthawks  1st        14.0\n",
       "            2nd        16.5\n",
       "Scouts      1st         2.5\n",
       "            2nd         2.5\n",
       "Name: preTestScore, dtype: float64"
      ]
     },
     "execution_count": 6,
     "metadata": {},
     "output_type": "execute_result"
    }
   ],
   "source": [
    "# present the mean preTestScores grouped by regiment and company\n",
    "regiment_company = regiment.groupby(['regiment', 'company'])\n",
    "regiment_company['preTestScore'].mean()"
   ]
  },
  {
   "cell_type": "code",
   "execution_count": 7,
   "metadata": {},
   "outputs": [
    {
     "data": {
      "text/html": [
       "<div>\n",
       "<style scoped>\n",
       "    .dataframe tbody tr th:only-of-type {\n",
       "        vertical-align: middle;\n",
       "    }\n",
       "\n",
       "    .dataframe tbody tr th {\n",
       "        vertical-align: top;\n",
       "    }\n",
       "\n",
       "    .dataframe thead th {\n",
       "        text-align: right;\n",
       "    }\n",
       "</style>\n",
       "<table border=\"1\" class=\"dataframe\">\n",
       "  <thead>\n",
       "    <tr style=\"text-align: right;\">\n",
       "      <th></th>\n",
       "      <th>regiment</th>\n",
       "      <th>company</th>\n",
       "      <th>preTestScore</th>\n",
       "    </tr>\n",
       "  </thead>\n",
       "  <tbody>\n",
       "    <tr>\n",
       "      <th>0</th>\n",
       "      <td>Dragoons</td>\n",
       "      <td>1st</td>\n",
       "      <td>3.5</td>\n",
       "    </tr>\n",
       "    <tr>\n",
       "      <th>1</th>\n",
       "      <td>Dragoons</td>\n",
       "      <td>2nd</td>\n",
       "      <td>27.5</td>\n",
       "    </tr>\n",
       "    <tr>\n",
       "      <th>2</th>\n",
       "      <td>Nighthawks</td>\n",
       "      <td>1st</td>\n",
       "      <td>14.0</td>\n",
       "    </tr>\n",
       "    <tr>\n",
       "      <th>3</th>\n",
       "      <td>Nighthawks</td>\n",
       "      <td>2nd</td>\n",
       "      <td>16.5</td>\n",
       "    </tr>\n",
       "    <tr>\n",
       "      <th>4</th>\n",
       "      <td>Scouts</td>\n",
       "      <td>1st</td>\n",
       "      <td>2.5</td>\n",
       "    </tr>\n",
       "    <tr>\n",
       "      <th>5</th>\n",
       "      <td>Scouts</td>\n",
       "      <td>2nd</td>\n",
       "      <td>2.5</td>\n",
       "    </tr>\n",
       "  </tbody>\n",
       "</table>\n",
       "</div>"
      ],
      "text/plain": [
       "     regiment company  preTestScore\n",
       "0    Dragoons     1st           3.5\n",
       "1    Dragoons     2nd          27.5\n",
       "2  Nighthawks     1st          14.0\n",
       "3  Nighthawks     2nd          16.5\n",
       "4      Scouts     1st           2.5\n",
       "5      Scouts     2nd           2.5"
      ]
     },
     "execution_count": 7,
     "metadata": {},
     "output_type": "execute_result"
    }
   ],
   "source": [
    "# present the mean preTestScores grouped by regiment and company without the heirarchical indexing\n",
    "mean_scores_grouped = regiment.groupby(['regiment', 'company'], as_index=False)['preTestScore'].mean()\n",
    "mean_scores_grouped"
   ]
  },
  {
   "cell_type": "code",
   "execution_count": 8,
   "metadata": {},
   "outputs": [
    {
     "name": "stdout",
     "output_type": "stream",
     "text": [
      "the number of observations in each group:\n",
      "('Dragoons', '1st')\n",
      "the number of observations: 2\n",
      "('Dragoons', '2nd')\n",
      "the number of observations: 2\n",
      "('Nighthawks', '1st')\n",
      "the number of observations: 2\n",
      "('Nighthawks', '2nd')\n",
      "the number of observations: 2\n",
      "('Scouts', '1st')\n",
      "the number of observations: 2\n",
      "('Scouts', '2nd')\n",
      "the number of observations: 2\n"
     ]
    }
   ],
   "source": [
    "# what is the number of observations in each regiment and company\n",
    "print(\"the number of observations in each group:\")\n",
    "for rc, data in regiment_company:\n",
    "    print(rc)\n",
    "    print(\"the number of observations:\", len(data))"
   ]
  },
  {
   "cell_type": "code",
   "execution_count": 9,
   "metadata": {},
   "outputs": [
    {
     "name": "stdout",
     "output_type": "stream",
     "text": [
      "name: ('Dragoons', '1st')\n",
      "   regiment company   name  preTestScore  postTestScore\n",
      "4  Dragoons     1st  Cooze             3             70\n",
      "5  Dragoons     1st  Jacon             4             25\n",
      "name: ('Dragoons', '2nd')\n",
      "   regiment company    name  preTestScore  postTestScore\n",
      "6  Dragoons     2nd  Ryaner            24             94\n",
      "7  Dragoons     2nd    Sone            31             57\n",
      "name: ('Nighthawks', '1st')\n",
      "     regiment company      name  preTestScore  postTestScore\n",
      "0  Nighthawks     1st    Miller             4             25\n",
      "1  Nighthawks     1st  Jacobson            24             94\n",
      "name: ('Nighthawks', '2nd')\n",
      "     regiment company    name  preTestScore  postTestScore\n",
      "2  Nighthawks     2nd     Ali            31             57\n",
      "3  Nighthawks     2nd  Milner             2             62\n",
      "name: ('Scouts', '1st')\n",
      "  regiment company   name  preTestScore  postTestScore\n",
      "8   Scouts     1st  Sloan             2             62\n",
      "9   Scouts     1st  Piger             3             70\n",
      "name: ('Scouts', '2nd')\n",
      "   regiment company   name  preTestScore  postTestScore\n",
      "10   Scouts     2nd  Riani             2             62\n",
      "11   Scouts     2nd    Ali             3             70\n"
     ]
    }
   ],
   "source": [
    "# iterate over groups and print the name and the whole data from the regiment\n",
    "for rc, data in regiment_company:\n",
    "    print(\"name:\", rc)\n",
    "    print(data)"
   ]
  }
 ],
 "metadata": {
  "kernelspec": {
   "display_name": "Python 3",
   "language": "python",
   "name": "python3"
  },
  "language_info": {
   "codemirror_mode": {
    "name": "ipython",
    "version": 3
   },
   "file_extension": ".py",
   "mimetype": "text/x-python",
   "name": "python",
   "nbconvert_exporter": "python",
   "pygments_lexer": "ipython3",
   "version": "3.11.4"
  }
 },
 "nbformat": 4,
 "nbformat_minor": 2
}
